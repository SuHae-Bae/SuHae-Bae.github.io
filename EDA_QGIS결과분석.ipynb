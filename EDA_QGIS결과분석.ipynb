{
 "cells": [
  {
   "cell_type": "code",
   "execution_count": null,
   "id": "pressing-coverage",
   "metadata": {},
   "outputs": [],
   "source": [
    "# EDA"
   ]
  },
  {
   "cell_type": "code",
   "execution_count": 2,
   "id": "imposed-christopher",
   "metadata": {},
   "outputs": [],
   "source": [
    "# 필요한 패키지 로드\n",
    "import matplotlib.pyplot as plt\n",
    "import matplotlib.font_manager as fm\n",
    "import pandas as pd\n",
    "import numpy as np"
   ]
  },
  {
   "cell_type": "code",
   "execution_count": 2,
   "id": "instructional-longer",
   "metadata": {},
   "outputs": [],
   "source": [
    "# 1. 아파트, 연립다세대, 단독다가구, 오피스텔 매매/전월세 건수 히스토그램 그리기(전체)\n",
    "# 데이터 로드\n",
    "apt_mm = pd.read_csv('3.세종시_아파트(매매)_실거래가.csv', encoding='utf-8')\n",
    "muc_mm = pd.read_csv('4.세종시_연립다세대(매매)_실거래가.csv', encoding='utf-8')\n",
    "sgh_mm = pd.read_csv('5.세종시_단독다가구(매매)_실거래가.csv', encoding='utf-8')\n",
    "off_mm = pd.read_csv('6.세종시_오피스텔(매매)_실거래가.csv', encoding='utf-8')\n",
    "apt_zw = pd.read_csv('7.세종시_아파트(전월세)_실거래가.csv', encoding='utf-8')\n",
    "muc_zw = pd.read_csv('8.세종시_연립다세대(전월세)_실거래가.csv', encoding='utf-8')\n",
    "sgh_zw = pd.read_csv('9.세종시_단독다가구(전월세)_실거래가.csv', encoding='utf-8')\n",
    "off_zw = pd.read_csv('10.세종시_오피스텔(전월세)_실거래가.csv', encoding='utf-8')"
   ]
  },
  {
   "cell_type": "code",
   "execution_count": 3,
   "id": "romantic-promise",
   "metadata": {},
   "outputs": [],
   "source": [
    "# 각 행을 세어보기\n",
    "apt_mm_cnt = len(apt_mm)\n",
    "muc_mm_cnt = len(muc_mm)\n",
    "sgh_mm_cnt = len(sgh_mm)\n",
    "off_mm_cnt = len(off_mm)\n",
    "apt_zw_cnt = len(apt_zw)\n",
    "muc_zw_cnt = len(muc_zw)\n",
    "sgh_zw_cnt = len(sgh_zw)\n",
    "off_zw_cnt = len(off_zw)"
   ]
  },
  {
   "cell_type": "code",
   "execution_count": 4,
   "id": "generous-female",
   "metadata": {},
   "outputs": [
    {
     "name": "stdout",
     "output_type": "stream",
     "text": [
      "23597 621 1144 345 38895 423 4605 1274\n"
     ]
    }
   ],
   "source": [
    "print(apt_mm_cnt, muc_mm_cnt, sgh_mm_cnt, off_mm_cnt, \n",
    "           apt_zw_cnt, muc_zw_cnt, sgh_zw_cnt, off_zw_cnt)"
   ]
  },
  {
   "cell_type": "code",
   "execution_count": 5,
   "id": "unlimited-future",
   "metadata": {},
   "outputs": [
    {
     "data": {
      "text/plain": [
       "Text(0.5, 1.0, 'Number of transactions - with building types')"
      ]
     },
     "execution_count": 5,
     "metadata": {},
     "output_type": "execute_result"
    },
    {
     "data": {
      "image/png": "[encoded data removed]",
      "text/plain": [
       "<Figure size 432x288 with 1 Axes>"
      ]
     },
     "metadata": {
      "needs_background": "light"
     },
     "output_type": "display_data"
    }
   ],
   "source": [
    "# 히스토그램 그리기\n",
    "bar_width = 0.4\n",
    "mm_data = [23597, 621, 1144, 345]\n",
    "zw_data = [38895, 423, 4605, 1274]\n",
    "x_label = ['Apart', 'Multicomplex', 'SingleHousehold', 'Officetel']\n",
    "index = np.arange(len(x_label))\n",
    "\n",
    "# 매매 데이터\n",
    "plt.bar(index, mm_data,  color='lightpink', align='edge', width=bar_width, label='meme')\n",
    "\n",
    "# 전세 데이터\n",
    "plt.bar(index + bar_width, zw_data, color='lightskyblue', align='edge', width=bar_width, label='zeonweolsae')\n",
    "\n",
    "# 막대 그래프 x축 데이터에 맞춰 라벨 지정\n",
    "plt.xticks(index + bar_width, x_label)\n",
    "plt.legend()\n",
    "plt.title('Number of transactions - with building types')"
   ]
  },
  {
   "cell_type": "code",
   "execution_count": 6,
   "id": "exotic-optimization",
   "metadata": {},
   "outputs": [
    {
     "data": {
      "text/plain": [
       "Text(0.5, 1.0, 'Number of transactions - with building types, No apart')"
      ]
     },
     "execution_count": 6,
     "metadata": {},
     "output_type": "execute_result"
    },
    {
     "data": {
      "image/png": "[encoded data removed]",
      "text/plain": [
       "<Figure size 432x288 with 1 Axes>"
      ]
     },
     "metadata": {
      "needs_background": "light"
     },
     "output_type": "display_data"
    }
   ],
   "source": [
    "# 아파트가 압도적으로 많기 때문에, 아파트를 제외한 다른 주택유형만 따로 만들어보았다\n",
    "# 히스토그램 그리기\n",
    "bar_width = 0.4\n",
    "mm_data = [621, 1144, 345]\n",
    "zw_data = [423, 4605, 1274]\n",
    "x_label = ['Multicomplex', 'SingleHousehold', 'Officetel']\n",
    "index = np.arange(len(x_label))\n",
    "\n",
    "# 매매 데이터\n",
    "plt.bar(index, mm_data,  color='lightpink', align='edge', width=bar_width, label='meme')\n",
    "\n",
    "# 전세 데이터\n",
    "plt.bar(index + bar_width, zw_data, color='lightskyblue', align='edge', width=bar_width, label='zeonweolsae')\n",
    "\n",
    "# 막대 그래프 x축 데이터에 맞춰 라벨 지정\n",
    "plt.xticks(index + bar_width, x_label)\n",
    "plt.legend()\n",
    "plt.title('Number of transactions - with building types, No apart')"
   ]
  },
  {
   "cell_type": "code",
   "execution_count": 7,
   "id": "impressed-plaza",
   "metadata": {},
   "outputs": [],
   "source": [
    "# 2. 연도별 거래건수 히스토그램 그리기\n",
    "# 계약년월이 int로 되어있기 때문에, 특정 년도만 뽑아내기 위해 str로 type를 변경함\n",
    "\n",
    "apt_mm = apt_mm.astype({'계약년월':'str'})\n",
    "apt_zw = apt_zw.astype({'계약년월':'str'})\n",
    "\n",
    "muc_mm = muc_mm.astype({'계약년월':'str'})\n",
    "muc_zw = muc_zw.astype({'계약년월':'str'})\n",
    "\n",
    "sgh_mm = sgh_mm.astype({'계약년월':'str'})\n",
    "sgh_zw = sgh_zw.astype({'계약년월':'str'})\n",
    "\n",
    "off_mm = off_mm.astype({'계약년월':'str'})\n",
    "off_zw = off_zw.astype({'계약년월':'str'})"
   ]
  },
  {
   "cell_type": "code",
   "execution_count": 8,
   "id": "classical-bristol",
   "metadata": {},
   "outputs": [],
   "source": [
    "# 계약연도를 2017/2018/2019/2020 로 나누어 실행 \n",
    "apt_mm_2017 = apt_mm[apt_mm['계약년월'].str.contains(\"2017\")]\n",
    "apt_mm_2018 = apt_mm[apt_mm['계약년월'].str.contains(\"2018\")]\n",
    "apt_mm_2019 = apt_mm[apt_mm['계약년월'].str.contains(\"2019\")]\n",
    "apt_mm_2020 = apt_mm[apt_mm['계약년월'].str.contains(\"2020\")]\n",
    "\n",
    "apt_zw_2017 = apt_zw[apt_zw['계약년월'].str.contains(\"2017\")]\n",
    "apt_zw_2018 = apt_zw[apt_zw['계약년월'].str.contains(\"2018\")]\n",
    "apt_zw_2019 = apt_zw[apt_zw['계약년월'].str.contains(\"2019\")]\n",
    "apt_zw_2020 = apt_zw[apt_zw['계약년월'].str.contains(\"2020\")]\n",
    "\n",
    "\n",
    "muc_mm_2017 = muc_mm[muc_mm['계약년월'].str.contains(\"2017\")]\n",
    "muc_mm_2018 = muc_mm[muc_mm['계약년월'].str.contains(\"2018\")]\n",
    "muc_mm_2019 = muc_mm[muc_mm['계약년월'].str.contains(\"2019\")]\n",
    "muc_mm_2020 = muc_mm[muc_mm['계약년월'].str.contains(\"2020\")]\n",
    "\n",
    "muc_zw_2017 = muc_zw[muc_zw['계약년월'].str.contains(\"2017\")]\n",
    "muc_zw_2018 = muc_zw[muc_zw['계약년월'].str.contains(\"2018\")]\n",
    "muc_zw_2019 = muc_zw[muc_zw['계약년월'].str.contains(\"2019\")]\n",
    "muc_zw_2020 = muc_zw[muc_zw['계약년월'].str.contains(\"2020\")]\n",
    "\n",
    "\n",
    "sgh_mm_2017 = sgh_mm[sgh_mm['계약년월'].str.contains(\"2017\")]\n",
    "sgh_mm_2018 = sgh_mm[sgh_mm['계약년월'].str.contains(\"2018\")]\n",
    "sgh_mm_2019 = sgh_mm[sgh_mm['계약년월'].str.contains(\"2019\")]\n",
    "sgh_mm_2020 = sgh_mm[sgh_mm['계약년월'].str.contains(\"2020\")]\n",
    "\n",
    "sgh_zw_2017 = sgh_zw[sgh_zw['계약년월'].str.contains(\"2017\")]\n",
    "sgh_zw_2018 = sgh_zw[sgh_zw['계약년월'].str.contains(\"2018\")]\n",
    "sgh_zw_2019 = sgh_zw[sgh_zw['계약년월'].str.contains(\"2019\")]\n",
    "sgh_zw_2020 = sgh_zw[sgh_zw['계약년월'].str.contains(\"2020\")]\n",
    "\n",
    "\n",
    "off_mm_2017 = off_mm[off_mm['계약년월'].str.contains(\"2017\")]\n",
    "off_mm_2018 = off_mm[off_mm['계약년월'].str.contains(\"2018\")]\n",
    "off_mm_2019 = off_mm[off_mm['계약년월'].str.contains(\"2019\")]\n",
    "off_mm_2020 = off_mm[off_mm['계약년월'].str.contains(\"2020\")]\n",
    "\n",
    "off_zw_2017 = off_zw[off_zw['계약년월'].str.contains(\"2017\")]\n",
    "off_zw_2018 = off_zw[off_zw['계약년월'].str.contains(\"2018\")]\n",
    "off_zw_2019 = off_zw[off_zw['계약년월'].str.contains(\"2019\")]\n",
    "off_zw_2020 = off_zw[off_zw['계약년월'].str.contains(\"2020\")]"
   ]
  },
  {
   "cell_type": "code",
   "execution_count": 9,
   "id": "empirical-narrow",
   "metadata": {},
   "outputs": [
    {
     "name": "stdout",
     "output_type": "stream",
     "text": [
      "4669\n",
      "3434\n",
      "5884\n",
      "9610\n",
      "8874\n",
      "8373\n",
      "10665\n",
      "10983\n"
     ]
    }
   ],
   "source": [
    "# 행의 갯수를 센 다음 바(bar) 그래프 그리기\n",
    "\n",
    "print(len(apt_mm_2017))\n",
    "print(len(apt_mm_2018))\n",
    "print(len(apt_mm_2019))\n",
    "print(len(apt_mm_2020))\n",
    "\n",
    "print(len(apt_zw_2017))\n",
    "print(len(apt_zw_2018))\n",
    "print(len(apt_zw_2019))\n",
    "print(len(apt_zw_2020))"
   ]
  },
  {
   "cell_type": "code",
   "execution_count": 10,
   "id": "editorial-shark",
   "metadata": {},
   "outputs": [
    {
     "data": {
      "text/plain": [
       "Text(0.5, 1.0, 'Yearly number of transactions - Apart')"
      ]
     },
     "execution_count": 10,
     "metadata": {},
     "output_type": "execute_result"
    },
    {
     "data": {
      "image/png": "[encoded data removed]",
      "text/plain": [
       "<Figure size 432x288 with 1 Axes>"
      ]
     },
     "metadata": {
      "needs_background": "light"
     },
     "output_type": "display_data"
    }
   ],
   "source": [
    "# 아파트의 매매, 전월세 거래수 히스토그램으로 그리기\n",
    "# 히스토그램 그리기\n",
    "bar_width = 0.4\n",
    "mm_data = [4669, 3434, 5884, 9610]\n",
    "zw_data = [8874, 8373, 10665, 10983]\n",
    "x_label = ['2017', '2018', '2019', '2020']\n",
    "index = np.arange(len(x_label))\n",
    "\n",
    "# 매매 데이터\n",
    "plt.bar(index, mm_data,  color='turquoise', align='edge', width=bar_width, label='meme')\n",
    "\n",
    "# 전세 데이터\n",
    "plt.bar(index + bar_width, zw_data, color='cadetblue', align='edge', width=bar_width, label='zeonweolsae')\n",
    "\n",
    "# 막대 그래프 x축 데이터에 맞춰 라벨 지정\n",
    "plt.xticks(index + bar_width, x_label)\n",
    "plt.legend()\n",
    "plt.title('Yearly number of transactions - Apart')"
   ]
  },
  {
   "cell_type": "code",
   "execution_count": 11,
   "id": "confused-spray",
   "metadata": {},
   "outputs": [
    {
     "name": "stdout",
     "output_type": "stream",
     "text": [
      "191\n",
      "81\n",
      "90\n",
      "259\n",
      "89\n",
      "87\n",
      "94\n",
      "153\n"
     ]
    }
   ],
   "source": [
    "# 행의 갯수를 센 다음 바(bar) 그래프 그리기\n",
    "\n",
    "print(len(muc_mm_2017))\n",
    "print(len(muc_mm_2018))\n",
    "print(len(muc_mm_2019))\n",
    "print(len(muc_mm_2020))\n",
    "\n",
    "print(len(muc_zw_2017))\n",
    "print(len(muc_zw_2018))\n",
    "print(len(muc_zw_2019))\n",
    "print(len(muc_zw_2020))"
   ]
  },
  {
   "cell_type": "code",
   "execution_count": 12,
   "id": "fatty-computer",
   "metadata": {},
   "outputs": [
    {
     "data": {
      "text/plain": [
       "Text(0.5, 1.0, 'Yearly number of transactions - Multicomplex')"
      ]
     },
     "execution_count": 12,
     "metadata": {},
     "output_type": "execute_result"
    },
    {
     "data": {
      "image/png": "[encoded data removed]",
      "text/plain": [
       "<Figure size 432x288 with 1 Axes>"
      ]
     },
     "metadata": {
      "needs_background": "light"
     },
     "output_type": "display_data"
    }
   ],
   "source": [
    "# 연립다세대의 매매, 전월세 거래수 히스토그램으로 그리기\n",
    "# 히스토그램 그리기\n",
    "bar_width = 0.4\n",
    "mm_data = [191, 81, 90, 259]\n",
    "zw_data = [89, 87, 94, 153]\n",
    "x_label = ['2017', '2018', '2019', '2020']\n",
    "index = np.arange(len(x_label))\n",
    "\n",
    "# 매매 데이터\n",
    "plt.bar(index, mm_data,  color='turquoise', align='edge', width=bar_width, label='meme')\n",
    "\n",
    "# 전세 데이터\n",
    "plt.bar(index + bar_width, zw_data, color='cadetblue', align='edge', width=bar_width, label='zeonweolsae')\n",
    "\n",
    "# 막대 그래프 x축 데이터에 맞춰 라벨 지정\n",
    "plt.xticks(index + bar_width, x_label)\n",
    "plt.legend()\n",
    "plt.title('Yearly number of transactions - Multicomplex')"
   ]
  },
  {
   "cell_type": "code",
   "execution_count": 13,
   "id": "established-webcam",
   "metadata": {},
   "outputs": [
    {
     "name": "stdout",
     "output_type": "stream",
     "text": [
      "310\n",
      "253\n",
      "200\n",
      "381\n",
      "966\n",
      "1068\n",
      "1151\n",
      "1420\n"
     ]
    }
   ],
   "source": [
    "# 행의 갯수를 센 다음 바(bar) 그래프 그리기\n",
    "\n",
    "print(len(sgh_mm_2017))\n",
    "print(len(sgh_mm_2018))\n",
    "print(len(sgh_mm_2019))\n",
    "print(len(sgh_mm_2020))\n",
    "\n",
    "print(len(sgh_zw_2017))\n",
    "print(len(sgh_zw_2018))\n",
    "print(len(sgh_zw_2019))\n",
    "print(len(sgh_zw_2020))"
   ]
  },
  {
   "cell_type": "code",
   "execution_count": 14,
   "id": "silent-building",
   "metadata": {},
   "outputs": [
    {
     "data": {
      "text/plain": [
       "Text(0.5, 1.0, 'Yearly number of transactions - SingleHousehold')"
      ]
     },
     "execution_count": 14,
     "metadata": {},
     "output_type": "execute_result"
    },
    {
     "data": {
      "image/png": "[encoded data removed]",
      "text/plain": [
       "<Figure size 432x288 with 1 Axes>"
      ]
     },
     "metadata": {
      "needs_background": "light"
     },
     "output_type": "display_data"
    }
   ],
   "source": [
    "# 단독다가구의 매매, 전월세 거래수 히스토그램으로 그리기\n",
    "# 히스토그램 그리기\n",
    "bar_width = 0.4\n",
    "mm_data = [310, 253, 200, 381]\n",
    "zw_data = [966, 1068, 1151, 1420]\n",
    "x_label = ['2017', '2018', '2019', '2020']\n",
    "index = np.arange(len(x_label))\n",
    "\n",
    "# 매매 데이터\n",
    "plt.bar(index, mm_data,  color='turquoise', align='edge', width=bar_width, label='meme')\n",
    "\n",
    "# 전세 데이터\n",
    "plt.bar(index + bar_width, zw_data, color='cadetblue', align='edge', width=bar_width, label='zeonweolsae')\n",
    "\n",
    "# 막대 그래프 x축 데이터에 맞춰 라벨 지정\n",
    "plt.xticks(index + bar_width, x_label)\n",
    "plt.legend()\n",
    "plt.title('Yearly number of transactions - SingleHousehold')"
   ]
  },
  {
   "cell_type": "code",
   "execution_count": 15,
   "id": "neither-kitchen",
   "metadata": {},
   "outputs": [
    {
     "name": "stdout",
     "output_type": "stream",
     "text": [
      "48\n",
      "42\n",
      "41\n",
      "214\n",
      "275\n",
      "420\n",
      "381\n",
      "198\n"
     ]
    }
   ],
   "source": [
    "# 행의 갯수를 센 다음 바(bar) 그래프 그리기\n",
    "\n",
    "print(len(off_mm_2017))\n",
    "print(len(off_mm_2018))\n",
    "print(len(off_mm_2019))\n",
    "print(len(off_mm_2020))\n",
    "\n",
    "print(len(off_zw_2017))\n",
    "print(len(off_zw_2018))\n",
    "print(len(off_zw_2019))\n",
    "print(len(off_zw_2020))"
   ]
  },
  {
   "cell_type": "code",
   "execution_count": 16,
   "id": "civilian-friday",
   "metadata": {},
   "outputs": [
    {
     "data": {
      "text/plain": [
       "Text(0.5, 1.0, 'Yearly number of transactions - Officetel')"
      ]
     },
     "execution_count": 16,
     "metadata": {},
     "output_type": "execute_result"
    },
    {
     "data": {
      "image/png": "[encoded data removed]",
      "text/plain": [
       "<Figure size 432x288 with 1 Axes>"
      ]
     },
     "metadata": {
      "needs_background": "light"
     },
     "output_type": "display_data"
    }
   ],
   "source": [
    "# 오피스텔의 매매, 전월세 거래수 히스토그램으로 그리기\n",
    "# 히스토그램 그리기\n",
    "bar_width = 0.4\n",
    "mm_data = [48, 42, 41, 214]\n",
    "zw_data = [275, 420, 381, 198]\n",
    "x_label = ['2017', '2018', '2019', '2020']\n",
    "index = np.arange(len(x_label))\n",
    "\n",
    "# 매매 데이터\n",
    "plt.bar(index, mm_data,  color='turquoise', align='edge', width=bar_width, label='meme')\n",
    "\n",
    "# 전세 데이터\n",
    "plt.bar(index + bar_width, zw_data, color='cadetblue', align='edge', width=bar_width, label='zeonweolsae')\n",
    "\n",
    "# 막대 그래프 x축 데이터에 맞춰 라벨 지정\n",
    "plt.xticks(index + bar_width, x_label)\n",
    "plt.legend()\n",
    "plt.title('Yearly number of transactions - Officetel')"
   ]
  },
  {
   "cell_type": "code",
   "execution_count": 3,
   "id": "crazy-oregon",
   "metadata": {},
   "outputs": [],
   "source": [
    "# 3. 연령별 인구현황 시각화(히스토그램)\n",
    "# 엑셀에서 한번 가공을 거친 데이터 활용\n",
    "\n",
    "pp_sejong = pd.read_csv('22.세종시_연령별_인구현황_가공.csv', encoding = 'utf-8')"
   ]
  },
  {
   "cell_type": "code",
   "execution_count": 11,
   "id": "victorian-pipeline",
   "metadata": {},
   "outputs": [
    {
     "data": {
      "text/plain": [
       "Text(0.5, 1.0, 'Yearly number of People - Total')"
      ]
     },
     "execution_count": 11,
     "metadata": {},
     "output_type": "execute_result"
    },
    {
     "data": {
      "image/png": "[encoded data removed]",
      "text/plain": [
       "<Figure size 432x288 with 1 Axes>"
      ]
     },
     "metadata": {
      "needs_background": "light"
     },
     "output_type": "display_data"
    }
   ],
   "source": [
    "# 세종시 전체의 총인구수변화(연도별)\n",
    "year_sejong = pp_sejong[pp_sejong['읍면동']=='세종특별자치시']\n",
    "year_sejong = year_sejong[['2017총인구','2018총인구','2019총인구','2020총인구']]\n",
    "\n",
    "# 세종시 전체의 총인구수 히스토그램으로 그리기\n",
    "# 히스토그램 그리기\n",
    "bar_width = 0.4\n",
    "\n",
    "x_label = ['2017', '2018', '2019', '2020']\n",
    "y_label = year_sejong.iloc[0]\n",
    "index = np.arange(len(x_label))\n",
    "\n",
    "# 총인구 데이터\n",
    "plt.bar(x_label, y_label, color='mistyrose', width=bar_width)\n",
    "plt.title('Yearly number of People - Total')"
   ]
  },
  {
   "cell_type": "code",
   "execution_count": 17,
   "id": "dirty-wiring",
   "metadata": {},
   "outputs": [
    {
     "data": {
      "text/plain": [
       "Text(0.5, 1.0, 'Yearly number of People - men&women')"
      ]
     },
     "execution_count": 17,
     "metadata": {},
     "output_type": "execute_result"
    },
    {
     "data": {
      "image/png": "[encoded data removed]",
      "text/plain": [
       "<Figure size 432x288 with 1 Axes>"
      ]
     },
     "metadata": {
      "needs_background": "light"
     },
     "output_type": "display_data"
    }
   ],
   "source": [
    "# 세종시 전체의 남녀인구수변화(연도별)\n",
    "mw_sejong = pp_sejong[pp_sejong['읍면동']=='세종특별자치시']\n",
    "mw_sejong = mw_sejong[['2017남자','2018남자','2019남자','2020남자',\n",
    "                           '2017여자','2018여자','2019여자','2020여자']]\n",
    "\n",
    "# 세종시 전체의 총인구수 히스토그램으로 그리기\n",
    "# 히스토그램 그리기\n",
    "bar_width = 0.4\n",
    "m_data = mw_sejong.iloc[0, 0:4]\n",
    "w_data = mw_sejong.iloc[0, 4:8]\n",
    "x_label = ['2017', '2018', '2019', '2020']\n",
    "index = np.arange(len(x_label))\n",
    "\n",
    "# 남자 데이터\n",
    "plt.bar(index, m_data,  color='cornflowerblue', align='edge', width=bar_width, label='men')\n",
    "\n",
    "# 여자 데이터\n",
    "plt.bar(index + bar_width, w_data, color='lightcoral', align='edge', width=bar_width, label='women')\n",
    "\n",
    "# 막대 그래프 x축 데이터에 맞춰 라벨 지정\n",
    "plt.xticks(index + bar_width, x_label)\n",
    "plt.legend()\n",
    "plt.title('Yearly number of People - men&women')"
   ]
  },
  {
   "cell_type": "code",
   "execution_count": 18,
   "id": "superior-cargo",
   "metadata": {},
   "outputs": [],
   "source": [
    "# 4. 상권 대분류명별로 갯수 세기\n",
    "\n",
    "market_sejong = pd.read_csv('14.세종시_상권정보.csv', encoding='utf-8')"
   ]
  },
  {
   "cell_type": "code",
   "execution_count": 28,
   "id": "impossible-weekend",
   "metadata": {},
   "outputs": [
    {
     "data": {
      "text/html": [
       "<div>\n",
       "<style scoped>\n",
       "    .dataframe tbody tr th:only-of-type {\n",
       "        vertical-align: middle;\n",
       "    }\n",
       "\n",
       "    .dataframe tbody tr th {\n",
       "        vertical-align: top;\n",
       "    }\n",
       "\n",
       "    .dataframe thead th {\n",
       "        text-align: right;\n",
       "    }\n",
       "</style>\n",
       "<table border=\"1\" class=\"dataframe\">\n",
       "  <thead>\n",
       "    <tr style=\"text-align: right;\">\n",
       "      <th></th>\n",
       "      <th>상권업종대분류명</th>\n",
       "    </tr>\n",
       "  </thead>\n",
       "  <tbody>\n",
       "    <tr>\n",
       "      <th>음식</th>\n",
       "      <td>4342</td>\n",
       "    </tr>\n",
       "    <tr>\n",
       "      <th>소매</th>\n",
       "      <td>3003</td>\n",
       "    </tr>\n",
       "    <tr>\n",
       "      <th>생활서비스</th>\n",
       "      <td>1587</td>\n",
       "    </tr>\n",
       "    <tr>\n",
       "      <th>부동산</th>\n",
       "      <td>783</td>\n",
       "    </tr>\n",
       "    <tr>\n",
       "      <th>학문/교육</th>\n",
       "      <td>754</td>\n",
       "    </tr>\n",
       "    <tr>\n",
       "      <th>관광/여가/오락</th>\n",
       "      <td>200</td>\n",
       "    </tr>\n",
       "    <tr>\n",
       "      <th>숙박</th>\n",
       "      <td>74</td>\n",
       "    </tr>\n",
       "    <tr>\n",
       "      <th>스포츠</th>\n",
       "      <td>30</td>\n",
       "    </tr>\n",
       "  </tbody>\n",
       "</table>\n",
       "</div>"
      ],
      "text/plain": [
       "          상권업종대분류명\n",
       "음식            4342\n",
       "소매            3003\n",
       "생활서비스         1587\n",
       "부동산            783\n",
       "학문/교육          754\n",
       "관광/여가/오락       200\n",
       "숙박              74\n",
       "스포츠             30"
      ]
     },
     "execution_count": 28,
     "metadata": {},
     "output_type": "execute_result"
    }
   ],
   "source": [
    "market_sejong['상권업종대분류명'].value_counts().to_frame()"
   ]
  },
  {
   "cell_type": "code",
   "execution_count": 29,
   "id": "julian-legislature",
   "metadata": {},
   "outputs": [
    {
     "data": {
      "text/html": [
       "<div>\n",
       "<style scoped>\n",
       "    .dataframe tbody tr th:only-of-type {\n",
       "        vertical-align: middle;\n",
       "    }\n",
       "\n",
       "    .dataframe tbody tr th {\n",
       "        vertical-align: top;\n",
       "    }\n",
       "\n",
       "    .dataframe thead th {\n",
       "        text-align: right;\n",
       "    }\n",
       "</style>\n",
       "<table border=\"1\" class=\"dataframe\">\n",
       "  <thead>\n",
       "    <tr style=\"text-align: right;\">\n",
       "      <th></th>\n",
       "      <th>상권업종소분류명</th>\n",
       "    </tr>\n",
       "  </thead>\n",
       "  <tbody>\n",
       "    <tr>\n",
       "      <th>한식/백반/한정식</th>\n",
       "      <td>1064</td>\n",
       "    </tr>\n",
       "    <tr>\n",
       "      <th>부동산중개</th>\n",
       "      <td>753</td>\n",
       "    </tr>\n",
       "    <tr>\n",
       "      <th>커피전문점/카페/다방</th>\n",
       "      <td>485</td>\n",
       "    </tr>\n",
       "    <tr>\n",
       "      <th>여성미용실</th>\n",
       "      <td>482</td>\n",
       "    </tr>\n",
       "    <tr>\n",
       "      <th>종합소매</th>\n",
       "      <td>302</td>\n",
       "    </tr>\n",
       "    <tr>\n",
       "      <th>...</th>\n",
       "      <td>...</td>\n",
       "    </tr>\n",
       "    <tr>\n",
       "      <th>학원-제과기술</th>\n",
       "      <td>1</td>\n",
       "    </tr>\n",
       "    <tr>\n",
       "      <th>유류판매</th>\n",
       "      <td>1</td>\n",
       "    </tr>\n",
       "    <tr>\n",
       "      <th>유리/거울판매</th>\n",
       "      <td>1</td>\n",
       "    </tr>\n",
       "    <tr>\n",
       "      <th>비디오감상실</th>\n",
       "      <td>1</td>\n",
       "    </tr>\n",
       "    <tr>\n",
       "      <th>유산균아이스크림전문</th>\n",
       "      <td>1</td>\n",
       "    </tr>\n",
       "  </tbody>\n",
       "</table>\n",
       "<p>394 rows × 1 columns</p>\n",
       "</div>"
      ],
      "text/plain": [
       "             상권업종소분류명\n",
       "한식/백반/한정식        1064\n",
       "부동산중개             753\n",
       "커피전문점/카페/다방       485\n",
       "여성미용실             482\n",
       "종합소매              302\n",
       "...               ...\n",
       "학원-제과기술             1\n",
       "유류판매                1\n",
       "유리/거울판매             1\n",
       "비디오감상실              1\n",
       "유산균아이스크림전문          1\n",
       "\n",
       "[394 rows x 1 columns]"
      ]
     },
     "execution_count": 29,
     "metadata": {},
     "output_type": "execute_result"
    }
   ],
   "source": [
    "market_sejong['상권업종소분류명'].value_counts().to_frame()"
   ]
  },
  {
   "cell_type": "code",
   "execution_count": null,
   "id": "charged-upset",
   "metadata": {},
   "outputs": [],
   "source": [
    "# QGIS 결과 활용 분석"
   ]
  },
  {
   "cell_type": "code",
   "execution_count": 19,
   "id": "pacific-preference",
   "metadata": {},
   "outputs": [],
   "source": [
    "# 5. QGIS에서 높은매매가로 거래된 사례가 있는 지역과 \n",
    "# 낮은매매가로 거래된 사례가 있는 지역 뽑아서 \n",
    "# 그 지역과 그 외 지역 매매가격 평균 비교해보기\n",
    "# 대상: 아파트 & 연립다세대 매매\n",
    "\n",
    "apt_expense = pd.read_csv('높은 매매가가 있는 지역의 거래건(아파트).csv', encoding='utf-8')\n",
    "apt_cheap = pd.read_csv('높은 매매가가 있는 지역 외 거래건(아파트).csv', encoding='utf-8')\n",
    "muc_expense = pd.read_csv('높은 매매가가 있는 지역의 거래건(연립다세대).csv', encoding='utf-8')\n",
    "muc_cheap = pd.read_csv('높은 매매가가 있는 지역 외 거래건(연립다세대).csv', encoding='utf-8')"
   ]
  },
  {
   "cell_type": "code",
   "execution_count": 20,
   "id": "sunset-arrangement",
   "metadata": {},
   "outputs": [],
   "source": [
    "apt_expense_mean = apt_expense['거래금액_만원'].mean()\n",
    "apt_cheap_mean = apt_cheap['거래금액_만원'].mean()\n",
    "muc_expense_mean = muc_expense['거래금액_만원'].mean()\n",
    "muc_cheap_mean = muc_cheap['거래금액_만원'].mean()"
   ]
  },
  {
   "cell_type": "code",
   "execution_count": 24,
   "id": "authentic-forestry",
   "metadata": {},
   "outputs": [
    {
     "data": {
      "text/plain": [
       "Text(0.5, 1.0, 'Mean price between expensive/cheap - APT & MUC')"
      ]
     },
     "execution_count": 24,
     "metadata": {},
     "output_type": "execute_result"
    },
    {
     "data": {
      "image/png": "[encoded data removed]",
      "text/plain": [
       "<Figure size 432x288 with 1 Axes>"
      ]
     },
     "metadata": {
      "needs_background": "light"
     },
     "output_type": "display_data"
    }
   ],
   "source": [
    "# 거래사례 평균 히스토그램으로 그리기\n",
    "# 히스토그램 그리기\n",
    "bar_width = 0.4\n",
    "expense_data = [apt_expense_mean, muc_expense_mean]\n",
    "cheap_data = [apt_cheap_mean, muc_cheap_mean]\n",
    "x_label = ['apt', 'muc']\n",
    "index = np.arange(len(x_label))\n",
    "\n",
    "# 비싼 거래내역이 있는 지역의 데이터\n",
    "plt.bar(index, expense_data,  color='lightgoldenrodyellow', align='edge', width=bar_width, label='expensive')\n",
    "\n",
    "# 비싼 거래내역이 없는 지역의 데이터\n",
    "plt.bar(index + bar_width, cheap_data, color='greenyellow', align='edge', width=bar_width, label='cheap')\n",
    "\n",
    "# 막대 그래프 x축 데이터에 맞춰 라벨 지정\n",
    "plt.xticks(index + bar_width, x_label)\n",
    "plt.legend()\n",
    "plt.title('Mean price between expensive/cheap - APT & MUC')"
   ]
  }
 ],
 "metadata": {
  "kernelspec": {
   "display_name": "Python 3",
   "language": "python",
   "name": "python3"
  },
  "language_info": {
   "codemirror_mode": {
    "name": "ipython",
    "version": 3
   },
   "file_extension": ".py",
   "mimetype": "text/x-python",
   "name": "python",
   "nbconvert_exporter": "python",
   "pygments_lexer": "ipython3",
   "version": "3.6.9"
  }
 },
 "nbformat": 4,
 "nbformat_minor": 5
}
