{
 "cells": [
  {
   "cell_type": "code",
   "execution_count": 12,
   "metadata": {},
   "outputs": [],
   "source": [
    "import pandas as pd\n",
    "import numpy as np\n",
    "import json\n",
    "import requests"
   ]
  },
  {
   "cell_type": "code",
   "execution_count": 44,
   "metadata": {},
   "outputs": [],
   "source": [
    "## csv파일 열기 (encoding 옵션은 종류에 따라 수정)\n",
    "file = pd.read_csv('./전처리전음식점.csv', encoding = 'utf-8')"
   ]
  },
  {
   "cell_type": "code",
   "execution_count": 45,
   "metadata": {},
   "outputs": [
    {
     "data": {
      "text/html": [
       "<div>\n",
       "<style scoped>\n",
       "    .dataframe tbody tr th:only-of-type {\n",
       "        vertical-align: middle;\n",
       "    }\n",
       "\n",
       "    .dataframe tbody tr th {\n",
       "        vertical-align: top;\n",
       "    }\n",
       "\n",
       "    .dataframe thead th {\n",
       "        text-align: right;\n",
       "    }\n",
       "</style>\n",
       "<table border=\"1\" class=\"dataframe\">\n",
       "  <thead>\n",
       "    <tr style=\"text-align: right;\">\n",
       "      <th></th>\n",
       "      <th>소재지</th>\n",
       "    </tr>\n",
       "  </thead>\n",
       "  <tbody>\n",
       "    <tr>\n",
       "      <th>0</th>\n",
       "      <td>인천광역시 중구 신포로23번길 20, 1,2,3층 (중앙동4가)</td>\n",
       "    </tr>\n",
       "    <tr>\n",
       "      <th>1</th>\n",
       "      <td>인천광역시 중구 도원로8번길 68, 1~2층 (신흥동3가)</td>\n",
       "    </tr>\n",
       "    <tr>\n",
       "      <th>2</th>\n",
       "      <td>인천광역시 중구 경동 4</td>\n",
       "    </tr>\n",
       "    <tr>\n",
       "      <th>3</th>\n",
       "      <td>인천광역시 중구 경동 200-9 /1</td>\n",
       "    </tr>\n",
       "    <tr>\n",
       "      <th>4</th>\n",
       "      <td>인천광역시 중구 개항로53번길 10, 1~2층 (내동)</td>\n",
       "    </tr>\n",
       "    <tr>\n",
       "      <th>...</th>\n",
       "      <td>...</td>\n",
       "    </tr>\n",
       "    <tr>\n",
       "      <th>359</th>\n",
       "      <td>인천광역시 중구 용유서로 386, 1,2층 (을왕동)</td>\n",
       "    </tr>\n",
       "    <tr>\n",
       "      <th>360</th>\n",
       "      <td>인천광역시 중구 신포로46번길 35, 1,2층 (내동)</td>\n",
       "    </tr>\n",
       "    <tr>\n",
       "      <th>361</th>\n",
       "      <td>인천광역시 중구 우현로 81, 1,2층 (인현동)</td>\n",
       "    </tr>\n",
       "    <tr>\n",
       "      <th>362</th>\n",
       "      <td>인천광역시 중구 영종대로 166, 128,129호 일부 (운서동)</td>\n",
       "    </tr>\n",
       "    <tr>\n",
       "      <th>363</th>\n",
       "      <td>인천광역시 중구 답동로30번길 23, 101호 (경동)</td>\n",
       "    </tr>\n",
       "  </tbody>\n",
       "</table>\n",
       "<p>364 rows × 1 columns</p>\n",
       "</div>"
      ],
      "text/plain": [
       "                                      소재지\n",
       "0     인천광역시 중구 신포로23번길 20, 1,2,3층 (중앙동4가)\n",
       "1        인천광역시 중구 도원로8번길 68, 1~2층 (신흥동3가)\n",
       "2                          인천광역시 중구 경동 4 \n",
       "3                   인천광역시 중구 경동 200-9 /1 \n",
       "4          인천광역시 중구 개항로53번길 10, 1~2층 (내동)\n",
       "..                                    ...\n",
       "359         인천광역시 중구 용유서로 386, 1,2층 (을왕동)\n",
       "360        인천광역시 중구 신포로46번길 35, 1,2층 (내동)\n",
       "361           인천광역시 중구 우현로 81, 1,2층 (인현동)\n",
       "362  인천광역시 중구 영종대로 166, 128,129호 일부 (운서동)\n",
       "363        인천광역시 중구 답동로30번길 23, 101호 (경동)\n",
       "\n",
       "[364 rows x 1 columns]"
      ]
     },
     "execution_count": 45,
     "metadata": {},
     "output_type": "execute_result"
    }
   ],
   "source": [
    "file"
   ]
  },
  {
   "cell_type": "code",
   "execution_count": 46,
   "metadata": {},
   "outputs": [
    {
     "data": {
      "text/plain": [
       "'인천광역시 중구 도원로8번길 68'"
      ]
     },
     "execution_count": 46,
     "metadata": {},
     "output_type": "execute_result"
    }
   ],
   "source": [
    "file['소재지'][1].find(\",\")\n",
    "file['소재지'][1][:18]"
   ]
  },
  {
   "cell_type": "code",
   "execution_count": 47,
   "metadata": {},
   "outputs": [],
   "source": [
    "for i in range(len(file)):\n",
    "    if ',' in (file['소재지'][i]):\n",
    "        a = file['소재지'][i].find(\",\")\n",
    "        file['소재지'][i] = file['소재지'][i][:a]\n",
    "    else:\n",
    "        continue\n",
    "\n",
    "\n",
    "\n",
    "\n"
   ]
  },
  {
   "cell_type": "code",
   "execution_count": 48,
   "metadata": {},
   "outputs": [
    {
     "data": {
      "text/html": [
       "<div>\n",
       "<style scoped>\n",
       "    .dataframe tbody tr th:only-of-type {\n",
       "        vertical-align: middle;\n",
       "    }\n",
       "\n",
       "    .dataframe tbody tr th {\n",
       "        vertical-align: top;\n",
       "    }\n",
       "\n",
       "    .dataframe thead th {\n",
       "        text-align: right;\n",
       "    }\n",
       "</style>\n",
       "<table border=\"1\" class=\"dataframe\">\n",
       "  <thead>\n",
       "    <tr style=\"text-align: right;\">\n",
       "      <th></th>\n",
       "      <th>소재지</th>\n",
       "    </tr>\n",
       "  </thead>\n",
       "  <tbody>\n",
       "    <tr>\n",
       "      <th>0</th>\n",
       "      <td>인천광역시 중구 신포로23번길 20</td>\n",
       "    </tr>\n",
       "    <tr>\n",
       "      <th>1</th>\n",
       "      <td>인천광역시 중구 도원로8번길 68</td>\n",
       "    </tr>\n",
       "    <tr>\n",
       "      <th>2</th>\n",
       "      <td>인천광역시 중구 경동 4</td>\n",
       "    </tr>\n",
       "    <tr>\n",
       "      <th>3</th>\n",
       "      <td>인천광역시 중구 경동 200-9 /1</td>\n",
       "    </tr>\n",
       "    <tr>\n",
       "      <th>4</th>\n",
       "      <td>인천광역시 중구 개항로53번길 10</td>\n",
       "    </tr>\n",
       "    <tr>\n",
       "      <th>...</th>\n",
       "      <td>...</td>\n",
       "    </tr>\n",
       "    <tr>\n",
       "      <th>359</th>\n",
       "      <td>인천광역시 중구 용유서로 386</td>\n",
       "    </tr>\n",
       "    <tr>\n",
       "      <th>360</th>\n",
       "      <td>인천광역시 중구 신포로46번길 35</td>\n",
       "    </tr>\n",
       "    <tr>\n",
       "      <th>361</th>\n",
       "      <td>인천광역시 중구 우현로 81</td>\n",
       "    </tr>\n",
       "    <tr>\n",
       "      <th>362</th>\n",
       "      <td>인천광역시 중구 영종대로 166</td>\n",
       "    </tr>\n",
       "    <tr>\n",
       "      <th>363</th>\n",
       "      <td>인천광역시 중구 답동로30번길 23</td>\n",
       "    </tr>\n",
       "  </tbody>\n",
       "</table>\n",
       "<p>364 rows × 1 columns</p>\n",
       "</div>"
      ],
      "text/plain": [
       "                       소재지\n",
       "0      인천광역시 중구 신포로23번길 20\n",
       "1       인천광역시 중구 도원로8번길 68\n",
       "2           인천광역시 중구 경동 4 \n",
       "3    인천광역시 중구 경동 200-9 /1 \n",
       "4      인천광역시 중구 개항로53번길 10\n",
       "..                     ...\n",
       "359      인천광역시 중구 용유서로 386\n",
       "360    인천광역시 중구 신포로46번길 35\n",
       "361        인천광역시 중구 우현로 81\n",
       "362      인천광역시 중구 영종대로 166\n",
       "363    인천광역시 중구 답동로30번길 23\n",
       "\n",
       "[364 rows x 1 columns]"
      ]
     },
     "execution_count": 48,
     "metadata": {},
     "output_type": "execute_result"
    }
   ],
   "source": [
    "file"
   ]
  },
  {
   "cell_type": "code",
   "execution_count": 50,
   "metadata": {},
   "outputs": [],
   "source": [
    "file.to_csv(\"./중구음식점_전처리후.csv\", encoding = \"CP949\")"
   ]
  },
  {
   "cell_type": "code",
   "execution_count": 26,
   "metadata": {},
   "outputs": [
    {
     "name": "stdout",
     "output_type": "stream",
     "text": [
      "{'address_name': '인천 중구 북성동1가 98-327', 'b_code': '2811013800', 'h_code': '2811060000', 'main_address_no': '98', 'mountain_yn': 'N', 'region_1depth_name': '인천', 'region_2depth_name': '중구', 'region_3depth_h_name': '북성동', 'region_3depth_name': '북성동1가', 'sub_address_no': '327', 'x': '126.598755013547', 'y': '37.474234092753'}\n"
     ]
    }
   ],
   "source": [
    "addr = '인천 중구 월미로 246'\n",
    "url='https://dapi.kakao.com/v2/local/search/address.json?query=' + addr\n",
    "headers = {\"Authorization\": \"KakaoAK 057873079626a592436710b8c7b612e8\"}\n",
    "result = json.loads(str(requests.get(url, headers=headers).text))\n",
    "match_first = result['documents'][0]['address']\n",
    "\n",
    "print(match_first)"
   ]
  },
  {
   "cell_type": "code",
   "execution_count": 33,
   "metadata": {},
   "outputs": [
    {
     "name": "stdout",
     "output_type": "stream",
     "text": [
      "0 rows done\n"
     ]
    },
    {
     "name": "stderr",
     "output_type": "stream",
     "text": [
      "<ipython-input-33-d740a183be84>:17: SettingWithCopyWarning: \n",
      "A value is trying to be set on a copy of a slice from a DataFrame\n",
      "\n",
      "See the caveats in the documentation: https://pandas.pydata.org/pandas-docs/stable/user_guide/indexing.html#returning-a-view-versus-a-copy\n",
      "  file['위도'][i] = match_first['y']\n",
      "<ipython-input-33-d740a183be84>:18: SettingWithCopyWarning: \n",
      "A value is trying to be set on a copy of a slice from a DataFrame\n",
      "\n",
      "See the caveats in the documentation: https://pandas.pydata.org/pandas-docs/stable/user_guide/indexing.html#returning-a-view-versus-a-copy\n",
      "  file['경도'][i] = match_first['x']\n"
     ]
    },
    {
     "name": "stdout",
     "output_type": "stream",
     "text": [
      "1000 rows done\n",
      "2000 rows done\n"
     ]
    }
   ],
   "source": [
    "# 만약 찾지 못할 경우, 이전 위경도로 저장되므로 중복처리 한번 해줘야 함\n",
    "\n",
    "for i in range(len(file)):\n",
    "    # ---이부분은 생략가능(얼마나 진행됬는지 확인)---\n",
    "    if (i%1000 == 0):\n",
    "        print(str(i)+\" rows done\")\n",
    "    # ------------------------------------------------\n",
    "    try:\n",
    "        match_first= {'x': 0, 'y': 0}\n",
    "        addr = file['소재지'][i]\n",
    "        url='https://dapi.kakao.com/v2/local/search/address.json?query=' + addr\n",
    "        headers = {\"Authorization\": \"KakaoAK 057873079626a592436710b8c7b612e8\"}\n",
    "        result = json.loads(str(requests.get(url, headers=headers).text))\n",
    "        match_first = result['documents'][0]['address']\n",
    "\n",
    "        ## 데이터 추가\n",
    "        file['위도'][i] = match_first['y']\n",
    "        file['경도'][i] = match_first['x']\n",
    "        \n",
    "    except IndexError:\n",
    "        pass\n"
   ]
  },
  {
   "cell_type": "code",
   "execution_count": 34,
   "metadata": {},
   "outputs": [
    {
     "data": {
      "text/html": [
       "<div>\n",
       "<style scoped>\n",
       "    .dataframe tbody tr th:only-of-type {\n",
       "        vertical-align: middle;\n",
       "    }\n",
       "\n",
       "    .dataframe tbody tr th {\n",
       "        vertical-align: top;\n",
       "    }\n",
       "\n",
       "    .dataframe thead th {\n",
       "        text-align: right;\n",
       "    }\n",
       "</style>\n",
       "<table border=\"1\" class=\"dataframe\">\n",
       "  <thead>\n",
       "    <tr style=\"text-align: right;\">\n",
       "      <th></th>\n",
       "      <th>업종명</th>\n",
       "      <th>업소명</th>\n",
       "      <th>소재지</th>\n",
       "      <th>소재지전화번호</th>\n",
       "      <th>데이터기준일자</th>\n",
       "      <th>위도</th>\n",
       "      <th>경도</th>\n",
       "    </tr>\n",
       "  </thead>\n",
       "  <tbody>\n",
       "    <tr>\n",
       "      <th>0</th>\n",
       "      <td>일반음식점</td>\n",
       "      <td>진흥각</td>\n",
       "      <td>인천광역시 중구 신포로23번길 20, 1,2,3층 (중앙동4가)</td>\n",
       "      <td>032-772-3058</td>\n",
       "      <td>2020-09-15</td>\n",
       "      <td>NaN</td>\n",
       "      <td>NaN</td>\n",
       "    </tr>\n",
       "    <tr>\n",
       "      <th>1</th>\n",
       "      <td>일반음식점</td>\n",
       "      <td>신성루</td>\n",
       "      <td>인천광역시 중구 우현로 19-14 (신생동)</td>\n",
       "      <td>032-772-4463</td>\n",
       "      <td>2020-09-15</td>\n",
       "      <td>37.469782</td>\n",
       "      <td>126.626424</td>\n",
       "    </tr>\n",
       "    <tr>\n",
       "      <th>2</th>\n",
       "      <td>일반음식점</td>\n",
       "      <td>평양옥</td>\n",
       "      <td>인천광역시 중구 도원로8번길 68, 1~2층 (신흥동3가)</td>\n",
       "      <td>032-882-2972</td>\n",
       "      <td>2020-09-15</td>\n",
       "      <td>NaN</td>\n",
       "      <td>NaN</td>\n",
       "    </tr>\n",
       "    <tr>\n",
       "      <th>3</th>\n",
       "      <td>일반음식점</td>\n",
       "      <td>대성불고기</td>\n",
       "      <td>인천광역시 중구 신포로27번길 29-1, 1,2층 (중앙동3가)</td>\n",
       "      <td>032-772-1504</td>\n",
       "      <td>2020-09-15</td>\n",
       "      <td>37.472121</td>\n",
       "      <td>126.623601</td>\n",
       "    </tr>\n",
       "    <tr>\n",
       "      <th>4</th>\n",
       "      <td>일반음식점</td>\n",
       "      <td>다복집</td>\n",
       "      <td>인천광역시 중구 우현로39번길 8-2 (신포동)</td>\n",
       "      <td>032-773-2416</td>\n",
       "      <td>2020-09-15</td>\n",
       "      <td>37.470984</td>\n",
       "      <td>126.626961</td>\n",
       "    </tr>\n",
       "    <tr>\n",
       "      <th>...</th>\n",
       "      <td>...</td>\n",
       "      <td>...</td>\n",
       "      <td>...</td>\n",
       "      <td>...</td>\n",
       "      <td>...</td>\n",
       "      <td>...</td>\n",
       "      <td>...</td>\n",
       "    </tr>\n",
       "    <tr>\n",
       "      <th>2692</th>\n",
       "      <td>일반음식점</td>\n",
       "      <td>루트(Route)70</td>\n",
       "      <td>인천광역시 중구 을왕로 70, 3층 (을왕동)</td>\n",
       "      <td>NaN</td>\n",
       "      <td>2020-09-15</td>\n",
       "      <td>37.449521</td>\n",
       "      <td>126.370321</td>\n",
       "    </tr>\n",
       "    <tr>\n",
       "      <th>2693</th>\n",
       "      <td>일반음식점</td>\n",
       "      <td>밥도둑 술고래</td>\n",
       "      <td>인천광역시 중구 은하수로 3, 영종관광어시장 1층 119호 (중산동)</td>\n",
       "      <td>NaN</td>\n",
       "      <td>2020-09-15</td>\n",
       "      <td>37.491509</td>\n",
       "      <td>126.581862</td>\n",
       "    </tr>\n",
       "    <tr>\n",
       "      <th>2694</th>\n",
       "      <td>일반음식점</td>\n",
       "      <td>베이글닥 운서1호점</td>\n",
       "      <td>인천광역시 중구 햇내로13번길 17, 프라임시티Ⅰ 1층 108호 (운서동)</td>\n",
       "      <td>032-746-2233</td>\n",
       "      <td>2020-09-15</td>\n",
       "      <td>37.491012</td>\n",
       "      <td>126.495287</td>\n",
       "    </tr>\n",
       "    <tr>\n",
       "      <th>2695</th>\n",
       "      <td>일반음식점</td>\n",
       "      <td>부라더푸드</td>\n",
       "      <td>인천광역시 중구 운서로63번길 3-6, 1층 103호 (운서동)</td>\n",
       "      <td>NaN</td>\n",
       "      <td>2020-09-15</td>\n",
       "      <td>37.496992</td>\n",
       "      <td>126.503117</td>\n",
       "    </tr>\n",
       "    <tr>\n",
       "      <th>2696</th>\n",
       "      <td>일반음식점</td>\n",
       "      <td>공항셀프라면</td>\n",
       "      <td>인천광역시 중구 흰바위로 31, 에어로시티 2층 202호 (운서동)</td>\n",
       "      <td>032-746-3360</td>\n",
       "      <td>2020-09-15</td>\n",
       "      <td>37.492767</td>\n",
       "      <td>126.488461</td>\n",
       "    </tr>\n",
       "  </tbody>\n",
       "</table>\n",
       "<p>2697 rows × 7 columns</p>\n",
       "</div>"
      ],
      "text/plain": [
       "        업종명          업소명                                        소재지  \\\n",
       "0     일반음식점          진흥각        인천광역시 중구 신포로23번길 20, 1,2,3층 (중앙동4가)   \n",
       "1     일반음식점          신성루                   인천광역시 중구 우현로 19-14 (신생동)   \n",
       "2     일반음식점          평양옥           인천광역시 중구 도원로8번길 68, 1~2층 (신흥동3가)   \n",
       "3     일반음식점        대성불고기        인천광역시 중구 신포로27번길 29-1, 1,2층 (중앙동3가)   \n",
       "4     일반음식점          다복집                 인천광역시 중구 우현로39번길 8-2 (신포동)   \n",
       "...     ...          ...                                        ...   \n",
       "2692  일반음식점  루트(Route)70                  인천광역시 중구 을왕로 70, 3층 (을왕동)   \n",
       "2693  일반음식점      밥도둑 술고래     인천광역시 중구 은하수로 3, 영종관광어시장 1층 119호 (중산동)   \n",
       "2694  일반음식점   베이글닥 운서1호점  인천광역시 중구 햇내로13번길 17, 프라임시티Ⅰ 1층 108호 (운서동)   \n",
       "2695  일반음식점        부라더푸드        인천광역시 중구 운서로63번길 3-6, 1층 103호 (운서동)   \n",
       "2696  일반음식점       공항셀프라면      인천광역시 중구 흰바위로 31, 에어로시티 2층 202호 (운서동)   \n",
       "\n",
       "           소재지전화번호     데이터기준일자         위도          경도  \n",
       "0     032-772-3058  2020-09-15        NaN         NaN  \n",
       "1     032-772-4463  2020-09-15  37.469782  126.626424  \n",
       "2     032-882-2972  2020-09-15        NaN         NaN  \n",
       "3     032-772-1504  2020-09-15  37.472121  126.623601  \n",
       "4     032-773-2416  2020-09-15  37.470984  126.626961  \n",
       "...            ...         ...        ...         ...  \n",
       "2692           NaN  2020-09-15  37.449521  126.370321  \n",
       "2693           NaN  2020-09-15  37.491509  126.581862  \n",
       "2694  032-746-2233  2020-09-15  37.491012  126.495287  \n",
       "2695           NaN  2020-09-15  37.496992  126.503117  \n",
       "2696  032-746-3360  2020-09-15  37.492767  126.488461  \n",
       "\n",
       "[2697 rows x 7 columns]"
      ]
     },
     "execution_count": 34,
     "metadata": {},
     "output_type": "execute_result"
    }
   ],
   "source": [
    "file"
   ]
  },
  {
   "cell_type": "code",
   "execution_count": 20,
   "metadata": {},
   "outputs": [
    {
     "ename": "NameError",
     "evalue": "name 'file1' is not defined",
     "output_type": "error",
     "traceback": [
      "\u001b[1;31m---------------------------------------------------------------------------\u001b[0m",
      "\u001b[1;31mNameError\u001b[0m                                 Traceback (most recent call last)",
      "\u001b[1;32m<ipython-input-20-092b711cf93c>\u001b[0m in \u001b[0;36m<module>\u001b[1;34m\u001b[0m\n\u001b[1;32m----> 1\u001b[1;33m \u001b[0mfile\u001b[0m \u001b[1;33m==\u001b[0m \u001b[0mfile1\u001b[0m\u001b[1;33m\u001b[0m\u001b[1;33m\u001b[0m\u001b[0m\n\u001b[0m",
      "\u001b[1;31mNameError\u001b[0m: name 'file1' is not defined"
     ]
    }
   ],
   "source": []
  },
  {
   "cell_type": "code",
   "execution_count": null,
   "metadata": {},
   "outputs": [],
   "source": []
  },
  {
   "cell_type": "code",
   "execution_count": null,
   "metadata": {},
   "outputs": [],
   "source": []
  },
  {
   "cell_type": "code",
   "execution_count": null,
   "metadata": {},
   "outputs": [],
   "source": []
  },
  {
   "cell_type": "code",
   "execution_count": 35,
   "metadata": {},
   "outputs": [],
   "source": [
    "file.to_csv(\"./중구일반음식점.csv\", encoding = \"CP949\")"
   ]
  },
  {
   "cell_type": "code",
   "execution_count": null,
   "metadata": {},
   "outputs": [],
   "source": []
  },
  {
   "cell_type": "code",
   "execution_count": null,
   "metadata": {},
   "outputs": [],
   "source": []
  }
 ],
 "metadata": {
  "kernelspec": {
   "display_name": "Python 3",
   "language": "python",
   "name": "python3"
  },
  "language_info": {
   "codemirror_mode": {
    "name": "ipython",
    "version": 3
   },
   "file_extension": ".py",
   "mimetype": "text/x-python",
   "name": "python",
   "nbconvert_exporter": "python",
   "pygments_lexer": "ipython3",
   "version": "3.8.3"
  }
 },
 "nbformat": 4,
 "nbformat_minor": 4
}
